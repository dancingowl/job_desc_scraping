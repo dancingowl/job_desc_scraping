{
 "metadata": {
  "language_info": {
   "codemirror_mode": {
    "name": "ipython",
    "version": 3
   },
   "file_extension": ".py",
   "mimetype": "text/x-python",
   "name": "python",
   "nbconvert_exporter": "python",
   "pygments_lexer": "ipython3",
   "version": "3.7.6-final"
  },
  "orig_nbformat": 2,
  "kernelspec": {
   "name": "Python 3.7.6 64-bit ('base': conda)",
   "display_name": "Python 3.7.6 64-bit ('base': conda)",
   "metadata": {
    "interpreter": {
     "hash": "0d9aa61a2a8799473610c923f2f670527a97741b56271999415b34cbfaac5f12"
    }
   }
  }
 },
 "nbformat": 4,
 "nbformat_minor": 2,
 "cells": [
  {
   "cell_type": "code",
   "execution_count": 2,
   "metadata": {},
   "outputs": [],
   "source": [
    "import time\n",
    "import re\n",
    "import requests\n",
    "import numpy as np\n",
    "import pandas as pd\n",
    "from datetime import datetime\n",
    "from selenium import webdriver\n",
    "from selenium.webdriver.common.by import By # 언제까지 브라우저 접속을 기다려줄 지 결정\n",
    "from selenium.webdriver.support.ui import WebDriverWait # By 모듈과 같이 자주 쓰인다.\n",
    "from selenium.webdriver.support import expected_conditions as EC # 어떤 상태까지 기다리겠다(페이지 클릭이나 커서 이동)\n",
    "from selenium.webdriver.chrome.options import Options\n",
    "from bs4 import BeautifulSoup\n",
    "\n",
    "from tqdm import tqdm"
   ]
  },
  {
   "source": [
    "# 찾을 정보\n",
    "기업이름,  마감날짜, 필요조건, 우대조건,  연봉정보, 주요 업무, 신입경력, "
   ],
   "cell_type": "markdown",
   "metadata": {}
  },
  {
   "cell_type": "code",
   "execution_count": 3,
   "metadata": {},
   "outputs": [],
   "source": [
    "def get_contents_dict(soup):\n",
    "    \n",
    "    # initialization\n",
    "    title = np.nan\n",
    "    companyname = np.nan\n",
    "    duedate = np.nan\n",
    "    job = np.nan\n",
    "    salary = np.nan\n",
    "    exp = np.nan\n",
    "    maintask = np.nan\n",
    "    requirement = np.nan\n",
    "    prefered = np.nan\n",
    "    location = np.nan\n",
    "    content_list = []\n",
    "\n",
    "    # 공고 제목\n",
    "    title = soup.find_all('h1', class_ = 'ttl')[0].text.strip()\n",
    "    # print(title)\n",
    "\n",
    "    # 마감 날짜\n",
    "    try: duedate = soup.find_all('li', class_ = 'calendar')[0].find_all('span',class_ = 'day_text')[-1].text.strip()\n",
    "    except: duedate = soup.find_all('li', class_ = 'calendar')[0].find_all('span')[-1].text.strip()\n",
    "    print(duedate)\n",
    "\n",
    "    # 기업 이름\n",
    "    companyname = soup.find_all('span', class_ = 'company_name')[0].text.strip()\n",
    "    # print(companyname)\n",
    "\n",
    "    # 직무\n",
    "    job = soup.find('li', class_ = 'briefcase').find('span',class_ = 'cont').text.strip()\n",
    "    # print(briefcase)\n",
    "\n",
    "    # 급여\n",
    "    salary = soup.find('li', class_ = 'money').find('span',class_ = 'cont').text.strip()\n",
    "    # print(salary)\n",
    "\n",
    "    # 신입/경력\n",
    "    exp = soup.find('li', class_ = 'experience').find('span',class_ = 'cont').text.strip()\n",
    "    # print(exp)\n",
    "\n",
    "    # 주요 업무, 자격요건, 우대사항\n",
    "    paragraph_all = soup.find_all('div', class_ = 'paragraph')\n",
    "    for i in paragraph_all:\n",
    "        if '주요업무' in i.text.strip():\n",
    "            maintask = i.find('div', class_ = 'text').text.strip()\n",
    "            # print('주요업무: ', maintask)\n",
    "\n",
    "        elif '자격요건' in i.text.strip():\n",
    "            requirement = i.find('div', class_ = 'text').text.strip()\n",
    "            # print('자격요건:', requirement)\n",
    "\n",
    "        elif '우대사항' in i.text.strip():\n",
    "            prefered = i.find('div', class_ = 'text').text.strip()\n",
    "            # print('우대사항:', prefered)\n",
    "            \n",
    "    # 위치\n",
    "    for i in soup.find_all('div', class_ = 'line_text_list'):\n",
    "        if '회사위치' in i.text.strip():\n",
    "            location = i.find('p').text.strip()\n",
    "            # print('위치:', location)\n",
    "\n",
    "    return {'companyname': companyname, 'duedate': duedate, 'job': job, 'salary': salary, 'exp': exp, 'maintask': maintask, 'requirement': requirement, 'prefered': prefered, 'location': location}\n"
   ]
  },
  {
   "source": [
    "# 스크래핑 시작"
   ],
   "cell_type": "markdown",
   "metadata": {}
  },
  {
   "cell_type": "code",
   "execution_count": 5,
   "metadata": {
    "tags": []
   },
   "outputs": [
    {
     "output_type": "stream",
     "name": "stdout",
     "text": "===================PAGE1==================\n 10%|█         | 1/10 [00:01<00:10,  1.21s/it]2020. 10. 05\n 20%|██        | 2/10 [00:02<00:09,  1.20s/it]2020. 11. 15\n 30%|███       | 3/10 [00:03<00:08,  1.19s/it]2020. 11. 10\n 40%|████      | 4/10 [00:04<00:07,  1.18s/it]2020. 12. 31\n 50%|█████     | 5/10 [00:05<00:05,  1.17s/it]2020. 10. 04\n 60%|██████    | 6/10 [00:07<00:04,  1.18s/it]2020. 12. 31\n 70%|███████   | 7/10 [00:08<00:03,  1.17s/it]2021. 02. 28\n 80%|████████  | 8/10 [00:09<00:02,  1.18s/it]2020. 10. 24\n 90%|█████████ | 9/10 [00:10<00:01,  1.18s/it]2020. 09. 30\n100%|██████████| 10/10 [00:11<00:00,  1.18s/it]상시채용\n===================PAGE2==================\n\n 10%|█         | 1/10 [00:02<00:24,  2.69s/it]2020. 11. 08\n 20%|██        | 2/10 [00:03<00:17,  2.24s/it]2020. 09. 30\n 30%|███       | 3/10 [00:05<00:13,  1.92s/it]2020. 09. 30\n 40%|████      | 4/10 [00:06<00:10,  1.69s/it]2020. 12. 31\n 50%|█████     | 5/10 [00:07<00:07,  1.53s/it]2020. 11. 11\n 60%|██████    | 6/10 [00:08<00:05,  1.42s/it]2021. 01. 29\n 70%|███████   | 7/10 [00:09<00:04,  1.38s/it]2020. 10. 12\n 80%|████████  | 8/10 [00:10<00:02,  1.32s/it]2020. 10. 05\n 90%|█████████ | 9/10 [00:12<00:01,  1.27s/it]2020. 10. 04\n100%|██████████| 10/10 [00:13<00:00,  1.33s/it]2020. 09. 30\n===================PAGE3==================\n\n 10%|█         | 1/10 [00:01<00:16,  1.88s/it]2020. 11. 30\n 20%|██        | 2/10 [00:03<00:13,  1.67s/it]2020. 10. 07\n 30%|███       | 3/10 [00:04<00:10,  1.54s/it]상시채용\n 40%|████      | 4/10 [00:05<00:08,  1.43s/it]2020. 09. 30\n 50%|█████     | 5/10 [00:06<00:06,  1.36s/it]2020. 09. 29\n 60%|██████    | 6/10 [00:07<00:05,  1.35s/it]2021. 03. 03\n"
    },
    {
     "output_type": "error",
     "ename": "WebDriverException",
     "evalue": "Message: chrome not reachable\n  (Session info: chrome=85.0.4183.121)\n",
     "traceback": [
      "\u001b[1;31m---------------------------------------------------------------------------\u001b[0m",
      "\u001b[1;31mWebDriverException\u001b[0m                        Traceback (most recent call last)",
      "\u001b[1;32m<ipython-input-5-c2ae03c398a4>\u001b[0m in \u001b[0;36m<module>\u001b[1;34m\u001b[0m\n\u001b[0;32m     23\u001b[0m \u001b[1;33m\u001b[0m\u001b[0m\n\u001b[0;32m     24\u001b[0m         \u001b[1;31m# Refresh source\u001b[0m\u001b[1;33m\u001b[0m\u001b[1;33m\u001b[0m\u001b[1;33m\u001b[0m\u001b[0m\n\u001b[1;32m---> 25\u001b[1;33m         \u001b[0mbs\u001b[0m \u001b[1;33m=\u001b[0m \u001b[0mBeautifulSoup\u001b[0m\u001b[1;33m(\u001b[0m\u001b[0mdriver\u001b[0m\u001b[1;33m.\u001b[0m\u001b[0mpage_source\u001b[0m\u001b[1;33m,\u001b[0m \u001b[1;34m'html.parser'\u001b[0m\u001b[1;33m)\u001b[0m\u001b[1;33m\u001b[0m\u001b[1;33m\u001b[0m\u001b[0m\n\u001b[0m\u001b[0;32m     26\u001b[0m \u001b[1;33m\u001b[0m\u001b[0m\n\u001b[0;32m     27\u001b[0m         \u001b[1;31m# Get contents\u001b[0m\u001b[1;33m\u001b[0m\u001b[1;33m\u001b[0m\u001b[1;33m\u001b[0m\u001b[0m\n",
      "\u001b[1;32m~\\anaconda3\\lib\\site-packages\\selenium\\webdriver\\remote\\webdriver.py\u001b[0m in \u001b[0;36mpage_source\u001b[1;34m(self)\u001b[0m\n\u001b[0;32m    677\u001b[0m             \u001b[0mdriver\u001b[0m\u001b[1;33m.\u001b[0m\u001b[0mpage_source\u001b[0m\u001b[1;33m\u001b[0m\u001b[1;33m\u001b[0m\u001b[0m\n\u001b[0;32m    678\u001b[0m         \"\"\"\n\u001b[1;32m--> 679\u001b[1;33m         \u001b[1;32mreturn\u001b[0m \u001b[0mself\u001b[0m\u001b[1;33m.\u001b[0m\u001b[0mexecute\u001b[0m\u001b[1;33m(\u001b[0m\u001b[0mCommand\u001b[0m\u001b[1;33m.\u001b[0m\u001b[0mGET_PAGE_SOURCE\u001b[0m\u001b[1;33m)\u001b[0m\u001b[1;33m[\u001b[0m\u001b[1;34m'value'\u001b[0m\u001b[1;33m]\u001b[0m\u001b[1;33m\u001b[0m\u001b[1;33m\u001b[0m\u001b[0m\n\u001b[0m\u001b[0;32m    680\u001b[0m \u001b[1;33m\u001b[0m\u001b[0m\n\u001b[0;32m    681\u001b[0m     \u001b[1;32mdef\u001b[0m \u001b[0mclose\u001b[0m\u001b[1;33m(\u001b[0m\u001b[0mself\u001b[0m\u001b[1;33m)\u001b[0m\u001b[1;33m:\u001b[0m\u001b[1;33m\u001b[0m\u001b[1;33m\u001b[0m\u001b[0m\n",
      "\u001b[1;32m~\\anaconda3\\lib\\site-packages\\selenium\\webdriver\\remote\\webdriver.py\u001b[0m in \u001b[0;36mexecute\u001b[1;34m(self, driver_command, params)\u001b[0m\n\u001b[0;32m    319\u001b[0m         \u001b[0mresponse\u001b[0m \u001b[1;33m=\u001b[0m \u001b[0mself\u001b[0m\u001b[1;33m.\u001b[0m\u001b[0mcommand_executor\u001b[0m\u001b[1;33m.\u001b[0m\u001b[0mexecute\u001b[0m\u001b[1;33m(\u001b[0m\u001b[0mdriver_command\u001b[0m\u001b[1;33m,\u001b[0m \u001b[0mparams\u001b[0m\u001b[1;33m)\u001b[0m\u001b[1;33m\u001b[0m\u001b[1;33m\u001b[0m\u001b[0m\n\u001b[0;32m    320\u001b[0m         \u001b[1;32mif\u001b[0m \u001b[0mresponse\u001b[0m\u001b[1;33m:\u001b[0m\u001b[1;33m\u001b[0m\u001b[1;33m\u001b[0m\u001b[0m\n\u001b[1;32m--> 321\u001b[1;33m             \u001b[0mself\u001b[0m\u001b[1;33m.\u001b[0m\u001b[0merror_handler\u001b[0m\u001b[1;33m.\u001b[0m\u001b[0mcheck_response\u001b[0m\u001b[1;33m(\u001b[0m\u001b[0mresponse\u001b[0m\u001b[1;33m)\u001b[0m\u001b[1;33m\u001b[0m\u001b[1;33m\u001b[0m\u001b[0m\n\u001b[0m\u001b[0;32m    322\u001b[0m             response['value'] = self._unwrap_value(\n\u001b[0;32m    323\u001b[0m                 response.get('value', None))\n",
      "\u001b[1;32m~\\anaconda3\\lib\\site-packages\\selenium\\webdriver\\remote\\errorhandler.py\u001b[0m in \u001b[0;36mcheck_response\u001b[1;34m(self, response)\u001b[0m\n\u001b[0;32m    240\u001b[0m                 \u001b[0malert_text\u001b[0m \u001b[1;33m=\u001b[0m \u001b[0mvalue\u001b[0m\u001b[1;33m[\u001b[0m\u001b[1;34m'alert'\u001b[0m\u001b[1;33m]\u001b[0m\u001b[1;33m.\u001b[0m\u001b[0mget\u001b[0m\u001b[1;33m(\u001b[0m\u001b[1;34m'text'\u001b[0m\u001b[1;33m)\u001b[0m\u001b[1;33m\u001b[0m\u001b[1;33m\u001b[0m\u001b[0m\n\u001b[0;32m    241\u001b[0m             \u001b[1;32mraise\u001b[0m \u001b[0mexception_class\u001b[0m\u001b[1;33m(\u001b[0m\u001b[0mmessage\u001b[0m\u001b[1;33m,\u001b[0m \u001b[0mscreen\u001b[0m\u001b[1;33m,\u001b[0m \u001b[0mstacktrace\u001b[0m\u001b[1;33m,\u001b[0m \u001b[0malert_text\u001b[0m\u001b[1;33m)\u001b[0m\u001b[1;33m\u001b[0m\u001b[1;33m\u001b[0m\u001b[0m\n\u001b[1;32m--> 242\u001b[1;33m         \u001b[1;32mraise\u001b[0m \u001b[0mexception_class\u001b[0m\u001b[1;33m(\u001b[0m\u001b[0mmessage\u001b[0m\u001b[1;33m,\u001b[0m \u001b[0mscreen\u001b[0m\u001b[1;33m,\u001b[0m \u001b[0mstacktrace\u001b[0m\u001b[1;33m)\u001b[0m\u001b[1;33m\u001b[0m\u001b[1;33m\u001b[0m\u001b[0m\n\u001b[0m\u001b[0;32m    243\u001b[0m \u001b[1;33m\u001b[0m\u001b[0m\n\u001b[0;32m    244\u001b[0m     \u001b[1;32mdef\u001b[0m \u001b[0m_value_or_default\u001b[0m\u001b[1;33m(\u001b[0m\u001b[0mself\u001b[0m\u001b[1;33m,\u001b[0m \u001b[0mobj\u001b[0m\u001b[1;33m,\u001b[0m \u001b[0mkey\u001b[0m\u001b[1;33m,\u001b[0m \u001b[0mdefault\u001b[0m\u001b[1;33m)\u001b[0m\u001b[1;33m:\u001b[0m\u001b[1;33m\u001b[0m\u001b[1;33m\u001b[0m\u001b[0m\n",
      "\u001b[1;31mWebDriverException\u001b[0m: Message: chrome not reachable\n  (Session info: chrome=85.0.4183.121)\n"
     ]
    }
   ],
   "source": [
    "df = pd.DataFrame()\n",
    "\n",
    "options = Options()\n",
    "# options.add_argument(\"user-agent: Mozilla/5.0 (Macintosh; Intel Mac OS X 10_15_5) AppleWebKit/537.36 (KHTML, like Gecko) Chrome/85.0.4183.102 Safari/537.36\")\n",
    "# chrome_options.add_argument(\"--headless\") # 브라우저가 화면에 뜨지 않고 내부적으로 실행\n",
    "driver = webdriver.Chrome(\"./chromedriver_85.exe\", options = options)\n",
    "\n",
    "# 잡플래닛 URL 접속 및 페이지 넘김\n",
    "for i in range(1, 100):\n",
    "    print('===================PAGE{}=================='.format(i))\n",
    "    driver.get('https://www.jobplanet.co.kr/job/search?q={}&page={}'.format('빅데이터',i))\n",
    "\n",
    "    # 크롬 브라우저 내부 대기\n",
    "    driver.implicitly_wait(5)\n",
    "\n",
    "    #하나의 페이지 안에서 하나의 공고 클릭\n",
    "    for r in tqdm(range(1,11)):\n",
    "        # print('========{}번째 공고========'.format(r))\n",
    "\n",
    "        # Click each job decscription\n",
    "        driver.find_element_by_xpath('//*[@id=\"job_search_app\"]/div/div[2]/div[1]/div[2]/ul/li[{}]/a'.format(r)).click()\n",
    "        time.sleep(1)\n",
    "\n",
    "        # Refresh source\n",
    "        bs = BeautifulSoup(driver.page_source, 'html.parser')\n",
    "\n",
    "        # Get contents\n",
    "        dict_ = get_contents_dict(bs)\n",
    "        df = df.append(dict_, ignore_index=True)"
   ]
  },
  {
   "cell_type": "code",
   "execution_count": 8,
   "metadata": {},
   "outputs": [
    {
     "output_type": "execute_result",
     "data": {
      "text/plain": "     companyname       duedate        exp  \\\n0        (주)디다이브  2020. 10. 05       경력무관   \n1      현대글로비스(주)  2020. 11. 15       경력무관   \n2     (주)한국정보기술단  2020. 11. 10      5년 이상   \n3     엘지디스플레이(주)  2020. 12. 31       경력무관   \n4       네이버웹툰(주)  2020. 10. 04       경력무관   \n5   (주)카카오엔터프라이즈  2020. 12. 31       경력무관   \n6       현대자동차(주)  2021. 02. 28       경력무관   \n7    (주)커스토머인사이트  2020. 10. 24   신입, 경력무관   \n8    흥국화재해상보험(주)  2020. 09. 30      3년 이상   \n9      (주)케이티넥스알          상시채용      8년 이상   \n10       애버커스(주)  2020. 11. 08       경력무관   \n11       드림미즈(주)  2020. 09. 30   신입, 경력무관   \n12    잡플래닛 매칭서비스  2020. 09. 30      3년 이상   \n13     신한금융투자(주)  2020. 12. 31      1년 이상   \n14     (주)지에스리테일  2020. 11. 11       경력무관   \n15        버즈빌(주)  2021. 01. 29  신입, 1년 이상   \n16      클레이웍스(주)  2020. 10. 12   신입, 경력무관   \n17       (주)디다이브  2020. 10. 05       경력무관   \n18      현대자동차(주)  2020. 10. 04      3년 이상   \n19           펜타클  2020. 09. 30      1년 이상   \n20      (주)매스프레소  2020. 11. 30      1년 이상   \n21     (주)버킷플레이스  2020. 10. 07      3년 이상   \n22       (주)플래티어          상시채용   신입, 경력무관   \n23       (주)중고나라  2020. 09. 30      2년 이상   \n24    (주)한국신용데이터  2020. 09. 29  신입, 3년 이상   \n25      (주)메쉬코리아  2021. 03. 03   신입, 경력무관   \n\n                                     job  \\\n0                                  데이터분석   \n1                              기획, 데이터분석   \n2                                  데이터분석   \n3                                  데이터분석   \n4                              소프트웨어엔지니어   \n5                  데이터분석, 소프트웨어엔지니어, 웹개발   \n6                         데이터분석, 프로젝트매니저   \n7                                  데이터분석   \n8                         데이터분석, 시장조사/분석   \n9                                    웹개발   \n10                                 데이터분석   \n11                      데이터분석, 소프트웨어엔지니어   \n12                       IT/솔루션영업 , 국내영업   \n13                               프로젝트매니저   \n14                                 데이터분석   \n15                      데이터분석, 소프트웨어엔지니어   \n16                               시스템엔지니어   \n17                                 데이터분석   \n18                                 데이터분석   \n19                                 데이터분석   \n20                                 데이터분석   \n21                                 데이터분석   \n22                                 데이터분석   \n23  DBA(Database Admin.), 데이터분석, 시스템엔지니어   \n24                                 데이터분석   \n25                            웹개발, 데이터분석   \n\n                                             location  \\\n0                          서울 강남구 테헤란로20길 16, 금정빌딩 7층   \n1                                서울 강남구 테헤란로 301 삼정빌딩   \n2                     서울 강남구 학동로11길 56, 2층 (논현동,백송빌딩)   \n3                             서울 영등포구 여의대로 128 LG트윈타워   \n4                            경기 성남시 분당구 분당내곡로 117, 9층   \n5                             경기 성남시 분당구 판교역로 235, 3층   \n6                                       서울 서초구 헌릉로 12   \n7                           서울 송파구 송파대로 167 테라타워 A720   \n8                       서울 종로구 새문안로 68 (신문로1가,흥국생명빌딩)   \n9                  서울트별시 서초구 효령로 176, B동(방배동, KT방배빌딩)   \n10            서울 구로구 디지털로31길 20, 1108호 (구로동,에이스테크노5차)   \n11                    서울 중구 을지로6가58-5 케이티 을지지사 1층, 4층   \n12  서울특별시 강남구 테헤란로 415 스파크플러스 3층 307호 (L7 Hotel 강남타워)   \n13                    서울 영등포구 여의대로 70 (여의도동,신한금융투자타워)   \n14                          서울 강남구 논현로 508 (역삼동,GS타워)   \n15               서울특별시 송파구 석촌호수로 272 대림빌딩 2, 3, 4, 5층   \n16                      서울 서초구 서초1동 1444-8 포커스빌딩 201호   \n17                         서울 강남구 테헤란로20길 16, 금정빌딩 7층   \n18                                      서울 서초구 헌릉로 12   \n19                   서울 강남구 역삼동 735-22 GALA빌딩 8,9,13층   \n20                               서울시 강남구 테헤란로 132 12층   \n21                        서울 서초구 서초대로 398, 플래티넘타워 19층   \n22           서울특별시 송파구 법원로9길 26 D동 6층(문정동, 에이치비지니스파크)   \n23                 서울특별시 서초구 서초대로 301 동익성봉빌딩 7층, 중고나라   \n24                       서울특별시 강남구 영동대로 607 랜드마크빌딩 6층   \n25                        서울 강남구 테헤란로 418 다봉빌딩 12-13층   \n\n                                             maintask  \\\n0   - 광고 퍼포먼스 데이터를 빠르고 안정적으로 처리하기 위한 데이터 인프라 설계\\n-...   \n1   · 빅데이터/AI 과제 기획 \\n- 빅데이터/AI 과제 기획 및 발굴 \\n- 현업 ...   \n2                           - 빅데이터 분석 및 컨설팅, 플랫폼 구축 등   \n3   1. 수율 향상/ 품질 사고 Zero : 신속한 불량원인 규명, 불량 사전방지, 장...   \n4   - 글로벌 NO.1 라인웹툰, 국내 1위 네이버웹툰, 웹소설, 시리즈, 시리즈on의...   \n5   다음과 같은 업무를 하며 입사 후 업무 전환도 가능하니 1개 이상의 업무에 적합한 ...   \n6     - 머신러닝/딥러닝 활용 생산설비 보전 기획 \\n- 빅데이터 활용 내부 프로젝트 수행   \n7      - 정형 데이터 분석, 비정형 데이터 분석\\n- 빅 데이터 솔루션 Hadoop 구현   \n8   - 전사 빅데이터 전략 수립 및 실행\\n- 빅데이터 플랫폼 전략 수립 및 구축\\n-...   \n9   1. Backend\\n- 자사 빅데이터 솔루션 개발\\n- 오픈소스 트래킹\\n- Sp...   \n10                                     - 빅데이터 구축 및 운영   \n11      - 디지털 전환 시대에 필요한 ICT 분야의 빅데이터 및 AI 등의 연구 기술인력   \n12  - 빅데이터 분야별(금융, 통신, 교통, 경제, 환경, 등) 비식별화 솔루션 사업 ...   \n13                     - 디지털 기술 신사업 검토 \\n- 신서비스 구축 PM   \n14                          · 빅데이터 분석을 통한 이슈, 인사이트 발굴   \n15  버즈빌은 글로벌 애드 테크(Ad-tech) 기업입니다. 전 세계의 복잡한 디지털 광...   \n16  - FTA원산지관리 등 기업의 스마트 비즈니스 실행에 필요한 머신러닝 시스템 개발\\...   \n17  - 광고 퍼포먼스 최적화를 위한 지표 분석 및 발굴\\n- 광고 클릭스트림 분석, A...   \n18  · 모빌리티 관련 기술 및 서비스 개발\\n- 현대자동차에서는 자동차를 넘어 우리 일...   \n19  - 클라우드 환경에서 데이터 마케팅 플랫폼 구축 \\n- 클라우드 환경에서 데이터 분...   \n20  - 서비스 지표 상승 및 문제 해결을 위한 데이터 기반의 인사이트 제공\\n- 데이터...   \n21  - 데이터 분석을 위한 데이터 스키마(데이터 레이크, 데이터 마트) 설계 및 개발\\...   \n22  - ML 서비스를 위한 데이터 파이프라인 시스템 설계 개발 및 운영 관리\\n- 대용...   \n23  ㆍ중고나라 데이터 분석\\nㆍ검색 및 추천등 사용자 서비스 개발에 필요한 예측 모델 ...   \n24  - 서비스 제공을 위한 다양한 금융 데이터 수집 백엔드/인프라 개발 및 운영\\n- ...   \n25  - Business/Product를 위한 지표 (metric) 및 인덱스 (inde...   \n\n                                             prefered  \\\n0   - 광고플랫폼 데이터 처리 설계 및 개발 경험\\n- AWS를 활용한 빅데이터 처리 ...   \n1                                                 NaN   \n2                                                 NaN   \n3                                                 NaN   \n4   - Kafka, hadoop, hive, spark, flume 등 대용량 처리 경...   \n5   - 4년 이상의 분산 시스템 경험\\n- kubernetes, docker 를 이용한...   \n6                                                 NaN   \n7   - Open Source Hadoop Data Platform 경험자\\n- Micr...   \n8   - 생보사/손보사 현업 근무 경력자 우대\\n- 사회조사분석사, SAS 인증 자격증 ...   \n9                                                 NaN   \n10                                                NaN   \n11                                                NaN   \n12                                                NaN   \n13  - AI, 빅데이터, 블록체인, 클라우드 기술 도입 및 구축 프로젝트 경험자\\n- ...   \n14                                                NaN   \n15                                                NaN   \n16                                                NaN   \n17  - 디지털 퍼포먼스 마케팅 분야 경험\\n- 다층적 비정형 데이터를 정제하고 분석을 ...   \n18  - 실서비스에서 데이터 분석을 통해 사용자 문제를 해결해본 경험 보유자\\n- Ten...   \n19  - Google BigQuery, Dataflow(Beam) 사용 경험 \\n- Da...   \n20  - Growth팀(Growth Hacking) 또는 Lean Startup에 대한 ...   \n21  - 데이터 레이크에 대한 전반적인 이해\\n- 데이터 마트 설계 및 개발 경험\\n- ...   \n22  - 데이터를 활용한 End To End 프로젝트를 수행한 경험\\n- Hadoop, ...   \n23  ㆍElasticSearch 경험자 우대\\nㆍAWS 환경에서 업무 경험자 우대\\nㆍM...   \n24  - 중소사업자 금융거래 데이터 수집 및 전처리 과정 개발 및 운영\\n- 외부 데이터...   \n25  - Business/Product 지표 운영 경험\\n- Spark, Hadoop 등...   \n\n                                          requirement    salary  \n0   - 데이터 인프라, 어플리케이션 개발 경험\\n- 데이터 소스로부터 데이터 파이프라인...  회사내규에 따름  \n1                 · 빅데이터/AI 과제 기획 경력자 \\n· 빅데이터 분석 경력자  회사내규에 따름  \n2   - 기술사, 감리사, 정보시스템수석감리원 및 감리원 자격 소유자\\n- IT컨설팅분야...  회사내규에 따름  \n3   아래 알고리즘 중 하나 이상에 대한 설계와 구현 역량을 갖춘 인원\\n- 인공지능 기...  회사내규에 따름  \n4   - 대용량 데이터 설계에 대한 기본 지식과 모델링 경험이 있으신 분\\n- Java ...  회사내규에 따름  \n5   - 전산/컴퓨터공학 전공\\n- 탄탄한 관련 기본 지식 (운영체제, 알고리즘, 자료구...  회사내규에 따름  \n6   - 해외대 이공계 석/박사 학위 소지 및 취득 예정자, 또는 그에 준하는 경력자 (...  회사내규에 따름  \n7   - 경력 : 신입 또는 경력 2 년 이상\\n- 대학 졸업 또는 석사 졸업 이상\\n-...  회사내규에 따름  \n8   - 4년제 대학 졸업 이상\\n- 관련 직무경험 3년 이상 (대리~차장급)\\n- 통계...   면접 후 결정  \n9   세부 자격요건 및 우대사항은 아래 링크를 확인해주세요!\\n* http://nexr....   면접 후 결정  \n10         - 학력 : 대졸 이상 \\n- 경력 : 빅데이터 관련 시스템 구축 경험 필수  회사내규에 따름  \n11                                            - 신입/경력  회사내규에 따름  \n12  - 학사 이상\\n- 영업 및 영업 지원 경력 (IT분야, S/W, H/W 등)\\n-...   면접 후 결정  \n13  - 정규직/계약직\\n- 국내/해외 4년제 대학교 이상 졸업자(석사/박사 우대)\\n-...  회사내규에 따름  \n14  · 학사\\n  - 국내/해외대학 학사 학위 소지자 중 관련 경력 보유자\\n· 석사\\...  회사내규에 따름  \n15  Who You Are\\n1. 탄탄한 기본기: 버즈빌은 성장을 매우 중요하게 여기며,...   면접 후 결정  \n16  - 대용량 및 분산처리, 실시간 처리 방식에 대한 이해\\n- 머신러닝 기술에 대해 ...  회사내규에 따름  \n17  - Data Mining 수행 및 분석 리포트 작성 경험\\n- OLAP및 BI를 활...  회사내규에 따름  \n18  - 학사 이상의 학위 취득자\\n- 데이터마이닝 또는 머신러닝을 활용한 데이터 분석 ...  회사내규에 따름  \n19  - 1년 이상의 데이터 관련 경력 \\n- Java, Python 등 데이터 관련 개...  회사내규에 따름  \n20  - 단순한 아이디어 차원이 아닌 실질적인 action을 위한 구체적인 인사이트를 제...  회사내규에 따름  \n21  - 3년 이상의 유관 경력\\n- 데이터 엔지니어링에 대한 기본적인 이해\\n- 스칼라...  회사내규에 따름  \n22  - Python, Scala 등 파이프라인 구축 업무를 수행할 수 있는 하나 이상의...  회사내규에 따름  \n23  ㆍ데이터 분석 (EDA) 실무 경험\\nㆍ대용량 데이터 웨어하우스 구축 및 엔지니어링...   면접 후 결정  \n24  - Python 3+ 백엔드 개발 경력 3년차 이상\\n- 대용량 데이터 인프라 구축...  회사내규에 따름  \n25  - 통계(statistics)에 대한 이해\\n- 기본적인 programming에 대...   면접 후 결정  ",
      "text/html": "<div>\n<style scoped>\n    .dataframe tbody tr th:only-of-type {\n        vertical-align: middle;\n    }\n\n    .dataframe tbody tr th {\n        vertical-align: top;\n    }\n\n    .dataframe thead th {\n        text-align: right;\n    }\n</style>\n<table border=\"1\" class=\"dataframe\">\n  <thead>\n    <tr style=\"text-align: right;\">\n      <th></th>\n      <th>companyname</th>\n      <th>duedate</th>\n      <th>exp</th>\n      <th>job</th>\n      <th>location</th>\n      <th>maintask</th>\n      <th>prefered</th>\n      <th>requirement</th>\n      <th>salary</th>\n    </tr>\n  </thead>\n  <tbody>\n    <tr>\n      <th>0</th>\n      <td>(주)디다이브</td>\n      <td>2020. 10. 05</td>\n      <td>경력무관</td>\n      <td>데이터분석</td>\n      <td>서울 강남구 테헤란로20길 16, 금정빌딩 7층</td>\n      <td>- 광고 퍼포먼스 데이터를 빠르고 안정적으로 처리하기 위한 데이터 인프라 설계\\n-...</td>\n      <td>- 광고플랫폼 데이터 처리 설계 및 개발 경험\\n- AWS를 활용한 빅데이터 처리 ...</td>\n      <td>- 데이터 인프라, 어플리케이션 개발 경험\\n- 데이터 소스로부터 데이터 파이프라인...</td>\n      <td>회사내규에 따름</td>\n    </tr>\n    <tr>\n      <th>1</th>\n      <td>현대글로비스(주)</td>\n      <td>2020. 11. 15</td>\n      <td>경력무관</td>\n      <td>기획, 데이터분석</td>\n      <td>서울 강남구 테헤란로 301 삼정빌딩</td>\n      <td>· 빅데이터/AI 과제 기획 \\n- 빅데이터/AI 과제 기획 및 발굴 \\n- 현업 ...</td>\n      <td>NaN</td>\n      <td>· 빅데이터/AI 과제 기획 경력자 \\n· 빅데이터 분석 경력자</td>\n      <td>회사내규에 따름</td>\n    </tr>\n    <tr>\n      <th>2</th>\n      <td>(주)한국정보기술단</td>\n      <td>2020. 11. 10</td>\n      <td>5년 이상</td>\n      <td>데이터분석</td>\n      <td>서울 강남구 학동로11길 56, 2층 (논현동,백송빌딩)</td>\n      <td>- 빅데이터 분석 및 컨설팅, 플랫폼 구축 등</td>\n      <td>NaN</td>\n      <td>- 기술사, 감리사, 정보시스템수석감리원 및 감리원 자격 소유자\\n- IT컨설팅분야...</td>\n      <td>회사내규에 따름</td>\n    </tr>\n    <tr>\n      <th>3</th>\n      <td>엘지디스플레이(주)</td>\n      <td>2020. 12. 31</td>\n      <td>경력무관</td>\n      <td>데이터분석</td>\n      <td>서울 영등포구 여의대로 128 LG트윈타워</td>\n      <td>1. 수율 향상/ 품질 사고 Zero : 신속한 불량원인 규명, 불량 사전방지, 장...</td>\n      <td>NaN</td>\n      <td>아래 알고리즘 중 하나 이상에 대한 설계와 구현 역량을 갖춘 인원\\n- 인공지능 기...</td>\n      <td>회사내규에 따름</td>\n    </tr>\n    <tr>\n      <th>4</th>\n      <td>네이버웹툰(주)</td>\n      <td>2020. 10. 04</td>\n      <td>경력무관</td>\n      <td>소프트웨어엔지니어</td>\n      <td>경기 성남시 분당구 분당내곡로 117, 9층</td>\n      <td>- 글로벌 NO.1 라인웹툰, 국내 1위 네이버웹툰, 웹소설, 시리즈, 시리즈on의...</td>\n      <td>- Kafka, hadoop, hive, spark, flume 등 대용량 처리 경...</td>\n      <td>- 대용량 데이터 설계에 대한 기본 지식과 모델링 경험이 있으신 분\\n- Java ...</td>\n      <td>회사내규에 따름</td>\n    </tr>\n    <tr>\n      <th>5</th>\n      <td>(주)카카오엔터프라이즈</td>\n      <td>2020. 12. 31</td>\n      <td>경력무관</td>\n      <td>데이터분석, 소프트웨어엔지니어, 웹개발</td>\n      <td>경기 성남시 분당구 판교역로 235, 3층</td>\n      <td>다음과 같은 업무를 하며 입사 후 업무 전환도 가능하니 1개 이상의 업무에 적합한 ...</td>\n      <td>- 4년 이상의 분산 시스템 경험\\n- kubernetes, docker 를 이용한...</td>\n      <td>- 전산/컴퓨터공학 전공\\n- 탄탄한 관련 기본 지식 (운영체제, 알고리즘, 자료구...</td>\n      <td>회사내규에 따름</td>\n    </tr>\n    <tr>\n      <th>6</th>\n      <td>현대자동차(주)</td>\n      <td>2021. 02. 28</td>\n      <td>경력무관</td>\n      <td>데이터분석, 프로젝트매니저</td>\n      <td>서울 서초구 헌릉로 12</td>\n      <td>- 머신러닝/딥러닝 활용 생산설비 보전 기획 \\n- 빅데이터 활용 내부 프로젝트 수행</td>\n      <td>NaN</td>\n      <td>- 해외대 이공계 석/박사 학위 소지 및 취득 예정자, 또는 그에 준하는 경력자 (...</td>\n      <td>회사내규에 따름</td>\n    </tr>\n    <tr>\n      <th>7</th>\n      <td>(주)커스토머인사이트</td>\n      <td>2020. 10. 24</td>\n      <td>신입, 경력무관</td>\n      <td>데이터분석</td>\n      <td>서울 송파구 송파대로 167 테라타워 A720</td>\n      <td>- 정형 데이터 분석, 비정형 데이터 분석\\n- 빅 데이터 솔루션 Hadoop 구현</td>\n      <td>- Open Source Hadoop Data Platform 경험자\\n- Micr...</td>\n      <td>- 경력 : 신입 또는 경력 2 년 이상\\n- 대학 졸업 또는 석사 졸업 이상\\n-...</td>\n      <td>회사내규에 따름</td>\n    </tr>\n    <tr>\n      <th>8</th>\n      <td>흥국화재해상보험(주)</td>\n      <td>2020. 09. 30</td>\n      <td>3년 이상</td>\n      <td>데이터분석, 시장조사/분석</td>\n      <td>서울 종로구 새문안로 68 (신문로1가,흥국생명빌딩)</td>\n      <td>- 전사 빅데이터 전략 수립 및 실행\\n- 빅데이터 플랫폼 전략 수립 및 구축\\n-...</td>\n      <td>- 생보사/손보사 현업 근무 경력자 우대\\n- 사회조사분석사, SAS 인증 자격증 ...</td>\n      <td>- 4년제 대학 졸업 이상\\n- 관련 직무경험 3년 이상 (대리~차장급)\\n- 통계...</td>\n      <td>면접 후 결정</td>\n    </tr>\n    <tr>\n      <th>9</th>\n      <td>(주)케이티넥스알</td>\n      <td>상시채용</td>\n      <td>8년 이상</td>\n      <td>웹개발</td>\n      <td>서울트별시 서초구 효령로 176, B동(방배동, KT방배빌딩)</td>\n      <td>1. Backend\\n- 자사 빅데이터 솔루션 개발\\n- 오픈소스 트래킹\\n- Sp...</td>\n      <td>NaN</td>\n      <td>세부 자격요건 및 우대사항은 아래 링크를 확인해주세요!\\n* http://nexr....</td>\n      <td>면접 후 결정</td>\n    </tr>\n    <tr>\n      <th>10</th>\n      <td>애버커스(주)</td>\n      <td>2020. 11. 08</td>\n      <td>경력무관</td>\n      <td>데이터분석</td>\n      <td>서울 구로구 디지털로31길 20, 1108호 (구로동,에이스테크노5차)</td>\n      <td>- 빅데이터 구축 및 운영</td>\n      <td>NaN</td>\n      <td>- 학력 : 대졸 이상 \\n- 경력 : 빅데이터 관련 시스템 구축 경험 필수</td>\n      <td>회사내규에 따름</td>\n    </tr>\n    <tr>\n      <th>11</th>\n      <td>드림미즈(주)</td>\n      <td>2020. 09. 30</td>\n      <td>신입, 경력무관</td>\n      <td>데이터분석, 소프트웨어엔지니어</td>\n      <td>서울 중구 을지로6가58-5 케이티 을지지사 1층, 4층</td>\n      <td>- 디지털 전환 시대에 필요한 ICT 분야의 빅데이터 및 AI 등의 연구 기술인력</td>\n      <td>NaN</td>\n      <td>- 신입/경력</td>\n      <td>회사내규에 따름</td>\n    </tr>\n    <tr>\n      <th>12</th>\n      <td>잡플래닛 매칭서비스</td>\n      <td>2020. 09. 30</td>\n      <td>3년 이상</td>\n      <td>IT/솔루션영업 , 국내영업</td>\n      <td>서울특별시 강남구 테헤란로 415 스파크플러스 3층 307호 (L7 Hotel 강남타워)</td>\n      <td>- 빅데이터 분야별(금융, 통신, 교통, 경제, 환경, 등) 비식별화 솔루션 사업 ...</td>\n      <td>NaN</td>\n      <td>- 학사 이상\\n- 영업 및 영업 지원 경력 (IT분야, S/W, H/W 등)\\n-...</td>\n      <td>면접 후 결정</td>\n    </tr>\n    <tr>\n      <th>13</th>\n      <td>신한금융투자(주)</td>\n      <td>2020. 12. 31</td>\n      <td>1년 이상</td>\n      <td>프로젝트매니저</td>\n      <td>서울 영등포구 여의대로 70 (여의도동,신한금융투자타워)</td>\n      <td>- 디지털 기술 신사업 검토 \\n- 신서비스 구축 PM</td>\n      <td>- AI, 빅데이터, 블록체인, 클라우드 기술 도입 및 구축 프로젝트 경험자\\n- ...</td>\n      <td>- 정규직/계약직\\n- 국내/해외 4년제 대학교 이상 졸업자(석사/박사 우대)\\n-...</td>\n      <td>회사내규에 따름</td>\n    </tr>\n    <tr>\n      <th>14</th>\n      <td>(주)지에스리테일</td>\n      <td>2020. 11. 11</td>\n      <td>경력무관</td>\n      <td>데이터분석</td>\n      <td>서울 강남구 논현로 508 (역삼동,GS타워)</td>\n      <td>· 빅데이터 분석을 통한 이슈, 인사이트 발굴</td>\n      <td>NaN</td>\n      <td>· 학사\\n  - 국내/해외대학 학사 학위 소지자 중 관련 경력 보유자\\n· 석사\\...</td>\n      <td>회사내규에 따름</td>\n    </tr>\n    <tr>\n      <th>15</th>\n      <td>버즈빌(주)</td>\n      <td>2021. 01. 29</td>\n      <td>신입, 1년 이상</td>\n      <td>데이터분석, 소프트웨어엔지니어</td>\n      <td>서울특별시 송파구 석촌호수로 272 대림빌딩 2, 3, 4, 5층</td>\n      <td>버즈빌은 글로벌 애드 테크(Ad-tech) 기업입니다. 전 세계의 복잡한 디지털 광...</td>\n      <td>NaN</td>\n      <td>Who You Are\\n1. 탄탄한 기본기: 버즈빌은 성장을 매우 중요하게 여기며,...</td>\n      <td>면접 후 결정</td>\n    </tr>\n    <tr>\n      <th>16</th>\n      <td>클레이웍스(주)</td>\n      <td>2020. 10. 12</td>\n      <td>신입, 경력무관</td>\n      <td>시스템엔지니어</td>\n      <td>서울 서초구 서초1동 1444-8 포커스빌딩 201호</td>\n      <td>- FTA원산지관리 등 기업의 스마트 비즈니스 실행에 필요한 머신러닝 시스템 개발\\...</td>\n      <td>NaN</td>\n      <td>- 대용량 및 분산처리, 실시간 처리 방식에 대한 이해\\n- 머신러닝 기술에 대해 ...</td>\n      <td>회사내규에 따름</td>\n    </tr>\n    <tr>\n      <th>17</th>\n      <td>(주)디다이브</td>\n      <td>2020. 10. 05</td>\n      <td>경력무관</td>\n      <td>데이터분석</td>\n      <td>서울 강남구 테헤란로20길 16, 금정빌딩 7층</td>\n      <td>- 광고 퍼포먼스 최적화를 위한 지표 분석 및 발굴\\n- 광고 클릭스트림 분석, A...</td>\n      <td>- 디지털 퍼포먼스 마케팅 분야 경험\\n- 다층적 비정형 데이터를 정제하고 분석을 ...</td>\n      <td>- Data Mining 수행 및 분석 리포트 작성 경험\\n- OLAP및 BI를 활...</td>\n      <td>회사내규에 따름</td>\n    </tr>\n    <tr>\n      <th>18</th>\n      <td>현대자동차(주)</td>\n      <td>2020. 10. 04</td>\n      <td>3년 이상</td>\n      <td>데이터분석</td>\n      <td>서울 서초구 헌릉로 12</td>\n      <td>· 모빌리티 관련 기술 및 서비스 개발\\n- 현대자동차에서는 자동차를 넘어 우리 일...</td>\n      <td>- 실서비스에서 데이터 분석을 통해 사용자 문제를 해결해본 경험 보유자\\n- Ten...</td>\n      <td>- 학사 이상의 학위 취득자\\n- 데이터마이닝 또는 머신러닝을 활용한 데이터 분석 ...</td>\n      <td>회사내규에 따름</td>\n    </tr>\n    <tr>\n      <th>19</th>\n      <td>펜타클</td>\n      <td>2020. 09. 30</td>\n      <td>1년 이상</td>\n      <td>데이터분석</td>\n      <td>서울 강남구 역삼동 735-22 GALA빌딩 8,9,13층</td>\n      <td>- 클라우드 환경에서 데이터 마케팅 플랫폼 구축 \\n- 클라우드 환경에서 데이터 분...</td>\n      <td>- Google BigQuery, Dataflow(Beam) 사용 경험 \\n- Da...</td>\n      <td>- 1년 이상의 데이터 관련 경력 \\n- Java, Python 등 데이터 관련 개...</td>\n      <td>회사내규에 따름</td>\n    </tr>\n    <tr>\n      <th>20</th>\n      <td>(주)매스프레소</td>\n      <td>2020. 11. 30</td>\n      <td>1년 이상</td>\n      <td>데이터분석</td>\n      <td>서울시 강남구 테헤란로 132 12층</td>\n      <td>- 서비스 지표 상승 및 문제 해결을 위한 데이터 기반의 인사이트 제공\\n- 데이터...</td>\n      <td>- Growth팀(Growth Hacking) 또는 Lean Startup에 대한 ...</td>\n      <td>- 단순한 아이디어 차원이 아닌 실질적인 action을 위한 구체적인 인사이트를 제...</td>\n      <td>회사내규에 따름</td>\n    </tr>\n    <tr>\n      <th>21</th>\n      <td>(주)버킷플레이스</td>\n      <td>2020. 10. 07</td>\n      <td>3년 이상</td>\n      <td>데이터분석</td>\n      <td>서울 서초구 서초대로 398, 플래티넘타워 19층</td>\n      <td>- 데이터 분석을 위한 데이터 스키마(데이터 레이크, 데이터 마트) 설계 및 개발\\...</td>\n      <td>- 데이터 레이크에 대한 전반적인 이해\\n- 데이터 마트 설계 및 개발 경험\\n- ...</td>\n      <td>- 3년 이상의 유관 경력\\n- 데이터 엔지니어링에 대한 기본적인 이해\\n- 스칼라...</td>\n      <td>회사내규에 따름</td>\n    </tr>\n    <tr>\n      <th>22</th>\n      <td>(주)플래티어</td>\n      <td>상시채용</td>\n      <td>신입, 경력무관</td>\n      <td>데이터분석</td>\n      <td>서울특별시 송파구 법원로9길 26 D동 6층(문정동, 에이치비지니스파크)</td>\n      <td>- ML 서비스를 위한 데이터 파이프라인 시스템 설계 개발 및 운영 관리\\n- 대용...</td>\n      <td>- 데이터를 활용한 End To End 프로젝트를 수행한 경험\\n- Hadoop, ...</td>\n      <td>- Python, Scala 등 파이프라인 구축 업무를 수행할 수 있는 하나 이상의...</td>\n      <td>회사내규에 따름</td>\n    </tr>\n    <tr>\n      <th>23</th>\n      <td>(주)중고나라</td>\n      <td>2020. 09. 30</td>\n      <td>2년 이상</td>\n      <td>DBA(Database Admin.), 데이터분석, 시스템엔지니어</td>\n      <td>서울특별시 서초구 서초대로 301 동익성봉빌딩 7층, 중고나라</td>\n      <td>ㆍ중고나라 데이터 분석\\nㆍ검색 및 추천등 사용자 서비스 개발에 필요한 예측 모델 ...</td>\n      <td>ㆍElasticSearch 경험자 우대\\nㆍAWS 환경에서 업무 경험자 우대\\nㆍM...</td>\n      <td>ㆍ데이터 분석 (EDA) 실무 경험\\nㆍ대용량 데이터 웨어하우스 구축 및 엔지니어링...</td>\n      <td>면접 후 결정</td>\n    </tr>\n    <tr>\n      <th>24</th>\n      <td>(주)한국신용데이터</td>\n      <td>2020. 09. 29</td>\n      <td>신입, 3년 이상</td>\n      <td>데이터분석</td>\n      <td>서울특별시 강남구 영동대로 607 랜드마크빌딩 6층</td>\n      <td>- 서비스 제공을 위한 다양한 금융 데이터 수집 백엔드/인프라 개발 및 운영\\n- ...</td>\n      <td>- 중소사업자 금융거래 데이터 수집 및 전처리 과정 개발 및 운영\\n- 외부 데이터...</td>\n      <td>- Python 3+ 백엔드 개발 경력 3년차 이상\\n- 대용량 데이터 인프라 구축...</td>\n      <td>회사내규에 따름</td>\n    </tr>\n    <tr>\n      <th>25</th>\n      <td>(주)메쉬코리아</td>\n      <td>2021. 03. 03</td>\n      <td>신입, 경력무관</td>\n      <td>웹개발, 데이터분석</td>\n      <td>서울 강남구 테헤란로 418 다봉빌딩 12-13층</td>\n      <td>- Business/Product를 위한 지표 (metric) 및 인덱스 (inde...</td>\n      <td>- Business/Product 지표 운영 경험\\n- Spark, Hadoop 등...</td>\n      <td>- 통계(statistics)에 대한 이해\\n- 기본적인 programming에 대...</td>\n      <td>면접 후 결정</td>\n    </tr>\n  </tbody>\n</table>\n</div>"
     },
     "metadata": {},
     "execution_count": 8
    }
   ],
   "source": [
    "df[]"
   ]
  },
  {
   "cell_type": "code",
   "execution_count": null,
   "metadata": {},
   "outputs": [],
   "source": []
  }
 ]
}