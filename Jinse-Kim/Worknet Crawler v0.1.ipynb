{
 "metadata": {
  "language_info": {
   "codemirror_mode": {
    "name": "ipython",
    "version": 3
   },
   "file_extension": ".py",
   "mimetype": "text/x-python",
   "name": "python",
   "nbconvert_exporter": "python",
   "pygments_lexer": "ipython3",
   "version": "3.7.6-final"
  },
  "orig_nbformat": 2,
  "kernelspec": {
   "name": "Python 3.7.6 64-bit ('base': conda)",
   "display_name": "Python 3.7.6 64-bit ('base': conda)",
   "metadata": {
    "interpreter": {
     "hash": "0d9aa61a2a8799473610c923f2f670527a97741b56271999415b34cbfaac5f12"
    }
   }
  }
 },
 "nbformat": 4,
 "nbformat_minor": 2,
 "cells": [
  {
   "cell_type": "code",
   "execution_count": 1,
   "metadata": {},
   "outputs": [],
   "source": [
    "import time\n",
    "import re\n",
    "import requests\n",
    "import numpy as np\n",
    "import pandas as pd\n",
    "from datetime import datetime\n",
    "from selenium import webdriver\n",
    "from selenium.webdriver.common.by import By # 언제까지 브라우저 접속을 기다려줄 지 결정\n",
    "from selenium.webdriver.support.ui import WebDriverWait # By 모듈과 같이 자주 쓰인다.\n",
    "from selenium.webdriver.support import expected_conditions as EC # 어떤 상태까지 기다리겠다(페이지 클릭이나 커서 이동)\n",
    "from selenium.webdriver.chrome.options import Options\n",
    "from bs4 import BeautifulSoup\n",
    "\n",
    "from tqdm import tqdm"
   ]
  },
  {
   "source": [
    "# 찾을 정보\n",
    "기업이름,  마감날짜, 필요조건, 우대조건,  연봉정보, 주요 업무, 신입경력, "
   ],
   "cell_type": "markdown",
   "metadata": {}
  },
  {
   "source": [
    "# 스크래핑 시작"
   ],
   "cell_type": "markdown",
   "metadata": {}
  },
  {
   "cell_type": "code",
   "execution_count": 2,
   "metadata": {
    "tags": []
   },
   "outputs": [],
   "source": [
    "options = Options()\n",
    "# options.add_argument(\"user-agent: Mozilla/5.0 (Macintosh; Intel Mac OS X 10_15_5) AppleWebKit/537.36 (KHTML, like Gecko) Chrome/85.0.4183.102 Safari/537.36\")\n",
    "# chrome_options.add_argument(\"--headless\") # 브라우저가 화면에 뜨지 않고 내부적으로 실행\n",
    "driver = webdriver.Chrome(\"./chromedriver_85.exe\", options = options)\n",
    "\n",
    "driver.get('https://www.work.go.kr/empInfo/empInfoSrch/list/dtlEmpSrchList.do?careerTo=&keywordJobCd=&occupation=&rot2WorkYn=&templateInfo=&payGbn=&resultCnt=10&keywordJobCont=N&cert=&cloDateStdt=&moreCon=&minPay=&codeDepth2Info=11000&isChkLocCall=&sortFieldInfo=DATE&major=&resrDutyExcYn=&sortField=DATE&staArea=&sortOrderBy=DESC&keyword={}&termSearchGbn=&benefitSrchAndOr=O&disableEmpHopeGbn=&webIsOut=&actServExcYn=&keywordStaAreaNm=N&maxPay=&emailApplyYn=&listCookieInfo=DTL&pageCode=&codeDepth1Info=11000&keywordEtcYn=&publDutyExcYn=&keywordJobCdSeqNo=&exJobsCd=&templateDepthNmInfo=&computerPreferential=&regDateStdt=&employGbn=&empTpGbcd=1&region=&resultCntInfo=10&siteClcd=all&cloDateEndt=&sortOrderByInfo=DESC&currntPageNo=3&indArea=&careerTypes=&searchOn=&subEmpHopeYn=&academicGbn=&foriegn=&templateDepthNoInfo=&mealOfferClcd=&station=&moerButtonYn=&holidayGbn=&enterPriseGbn=&academicGbnoEdu=&cloTermSearchGbn=&keywordWantedTitle=N&stationNm=&benefitGbn=&keywordFlag=&essCertChk=N&isEmptyHeader=&depth2SelCode=&_csrf=0f6cfac2-a845-40b1-805c-4c7864f42122&keywordBusiNm=N&preferentialGbn=&rot3WorkYn=&pfMatterPreferential=&regDateEndt=&staAreaLineInfo1=11000&staAreaLineInfo2=1&pageIndex={}&termContractMmcnt=&careerFrom=&laborHrShortYn=#viewSPL'.format('빅데이터',1))\n",
    "\n",
    "# 크롬 브라우저 내부 대기\n",
    "driver.implicitly_wait(1)\n",
    "\n",
    "# soup = BeautifulSoup(driver.page_source, 'html.parser')\n",
    "\n",
    "driver.find_element_by_xpath('//*[@id=\"list{}\"]/td[3]/div/div/a'.format(1)).click()\n",
    "# driver.implicitly_wait(1000000000000)\n",
    "time.sleep(0.5)\n",
    "\n",
    "driver.switch_to.window(driver.window_handles[-1])\n",
    "soup = BeautifulSoup(driver.page_source, 'html.parser')\n"
   ]
  },
  {
   "cell_type": "code",
   "execution_count": 3,
   "metadata": {
    "tags": []
   },
   "outputs": [
    {
     "output_type": "stream",
     "name": "stdout",
     "text": "[쿠팡] 쿠팡 - 포장검토 및 프레시백 회수 검수직 모집 (10/11까지 서류 마감)\nD-52\n\n\t\t\t\t\t\t$(document).ready(function(){\n\n\t\t\t\t\t\t\t/**** D-day 구하기 ****/\n\t\t\t\t\t\t\tvar date  = '20201120';\n\t\t\t\t\t\t\tvar wantedYn = 'N';\n\t\t\t\t\t\t\tvar closeClcd = 'A';\n\t\t\t\t\t\t\tvar plcmtCnt = '';\n\t\t\t\t\t\t\tvar offerCnt = '';\n\t\t\t\t\t\t\tvar seekActvHistCnt = '';\n\t\t\t\t\t\t\tvar callPage = 'detail';\n\t\t\t\t\t\t    //var FORMAT = \"-\";\n\n\t\t\t\t\t\t    if (date.length != 8)\n\t\t\t\t\t\t        return null;\n\n\t\t\t\t\t    \tvar pageType = '';\n\t\t\t\t\t\t\tif(closeClcd != 'A' && plcmtCnt < 1 && (pageType == null || pageType == \"\") && 'history' == callPage) {\n\t\t\t\t\t\t\t\t$(\"#dDayInfo\").text('마감');\n\t\t\t\t\t\t\t\treturn;\n\t\t\t\t\t\t\t}\n\n\t\t\t\t\t\t\tvar infoOpenGrdYn  = 'Y';\n\n\t\t\t\t\t\t\tif(infoOpenGrdYn == 'N' && (plcmtCnt > 0 && offerCnt > 0 || seekActvHistCnt > 0) && 'history' == callPage) {\n\t\t\t\t\t\t\t\t$(\"#dDayInfo\").text('마감/비공개');\n\t\t\t\t\t\t\t\treturn;\n\t\t\t\t\t\t\t}\n\n\t\t\t\t\t    \tif(date.substring(0,4) == '2099'){\n\t\t\t\t\t\t\t\t$(\"#dDayInfo\").text('채용시까지');\n\t\t\t\t\t\t        return;\n\t\t\t\t\t\t    }else if(wantedYn == 'Y'){\n\t\t\t\t\t\t    \t$(\"#dDayInfo\").html('채용시까지');\n\t\t\t\t\t\t    \treturn;\n\t\t\t\t\t\t    }\n\n\t\t\t\t\t\t    var arrDate0 = date.substring(0,4);\n\t\t\t\t\t\t    var arrDate1 = parseInt(date.substring(4,6))-1;\n\t\t\t\t\t\t    var arrDate2 = date.substring(6,8);\n\n\t\t\t\t\t\t    var now = new Date();\n\n\t\t\t\t\t\t    var from_dt = new Date(now.getFullYear(), now.getMonth(), now.getDate());\n\t\t\t\t\t\t    var to_dt = new Date(arrDate0, arrDate1, arrDate2);\n\t\t\t\t\t\t\tvar returnData = (to_dt.getTime() - from_dt.getTime()) / 1000 / 60 / 60 / 24;\n\n\t\t\t\t\t\t\tif(returnData < 0 ){\n\t\t\t\t\t\t\t\t$(\"#dDayInfo\").text('접수마감');\n\t\t\t\t\t\t\t}else if(returnData == 1){\n\t\t\t\t\t\t\t\t$(\"#dDayInfo\").text('D-'+returnData);\n\t\t\t\t\t\t\t}else if(returnData == 0){\n\t\t\t\t\t\t\t\t$(\"#dDayInfo\").html('오늘접수마감');\n\t\t\t\t\t\t\t}else{\n\t\t\t\t\t\t\t\t$(\"#dDayInfo\").text('D-'+returnData);\n\t\t\t\t\t\t\t}\n\n\t\t\t\t\t\t});\n"
    },
    {
     "output_type": "error",
     "ename": "IndexError",
     "evalue": "list index out of range",
     "traceback": [
      "\u001b[1;31m---------------------------------------------------------------------------\u001b[0m",
      "\u001b[1;31mIndexError\u001b[0m                                Traceback (most recent call last)",
      "\u001b[1;32m<ipython-input-3-4262dd89dbf7>\u001b[0m in \u001b[0;36m<module>\u001b[1;34m\u001b[0m\n\u001b[0;32m     17\u001b[0m \u001b[1;33m\u001b[0m\u001b[0m\n\u001b[0;32m     18\u001b[0m \u001b[1;31m# 마감 날짜\u001b[0m\u001b[1;33m\u001b[0m\u001b[1;33m\u001b[0m\u001b[1;33m\u001b[0m\u001b[0m\n\u001b[1;32m---> 19\u001b[1;33m \u001b[0mduedate\u001b[0m \u001b[1;33m=\u001b[0m \u001b[0msoup\u001b[0m\u001b[1;33m.\u001b[0m\u001b[0mfind_all\u001b[0m\u001b[1;33m(\u001b[0m\u001b[1;34m'div'\u001b[0m\u001b[1;33m,\u001b[0m \u001b[0mclass_\u001b[0m \u001b[1;33m=\u001b[0m \u001b[1;34m'careers-table center'\u001b[0m\u001b[1;33m)\u001b[0m\u001b[1;33m[\u001b[0m\u001b[1;36m0\u001b[0m\u001b[1;33m]\u001b[0m\u001b[1;33m.\u001b[0m\u001b[0mfind_all\u001b[0m\u001b[1;33m(\u001b[0m\u001b[1;34m'span'\u001b[0m\u001b[1;33m,\u001b[0m\u001b[0mclass_\u001b[0m \u001b[1;33m=\u001b[0m \u001b[1;34m'day_text'\u001b[0m\u001b[1;33m)\u001b[0m\u001b[1;33m[\u001b[0m\u001b[1;33m-\u001b[0m\u001b[1;36m1\u001b[0m\u001b[1;33m]\u001b[0m\u001b[1;33m.\u001b[0m\u001b[0mtext\u001b[0m\u001b[1;33m.\u001b[0m\u001b[0mstrip\u001b[0m\u001b[1;33m(\u001b[0m\u001b[1;33m)\u001b[0m\u001b[1;33m\u001b[0m\u001b[1;33m\u001b[0m\u001b[0m\n\u001b[0m\u001b[0;32m     20\u001b[0m \u001b[0mprint\u001b[0m\u001b[1;33m(\u001b[0m\u001b[0mduedate\u001b[0m\u001b[1;33m)\u001b[0m\u001b[1;33m\u001b[0m\u001b[1;33m\u001b[0m\u001b[0m\n\u001b[0;32m     21\u001b[0m \u001b[1;33m\u001b[0m\u001b[0m\n",
      "\u001b[1;31mIndexError\u001b[0m: list index out of range"
     ]
    }
   ],
   "source": [
    "# initialization\n",
    "title = np.nan\n",
    "companyname = np.nan\n",
    "duedate = np.nan\n",
    "job = np.nan\n",
    "salary = np.nan\n",
    "exp = np.nan\n",
    "maintask = np.nan\n",
    "requirement = np.nan\n",
    "prefered = np.nan\n",
    "location = np.nan\n",
    "content_list = []\n",
    "\n",
    "# 공고 제목\n",
    "title = soup.find_all('div', class_ = 'tit-area')[0].text.strip()\n",
    "print(title)\n",
    "\n",
    "# 마감 날짜\n",
    "duedate = soup.find_all('div', class_ = 'careers-table center')[0].find_all('span',class_ = 'day_text')[-1].text.strip()\n",
    "print(duedate)\n",
    "\n",
    "# 기업 이름\n",
    "companyname = soup.find_all('div', class_ = 'info')[0].find('div').text.strip()\n",
    "# print(companyname)\n",
    "\n",
    "# 직무\n",
    "# job = soup.find('li', class_ = 'briefcase').find('span',class_ = 'cont').text.strip()\n",
    "# print(briefcase)\n",
    "\n",
    "# 급여\n",
    "salary = soup.find('div', class_ = 'careers-table center').find('td').text.strip()\n",
    "# print(salary)\n",
    "\n",
    "# 신입/경력\n",
    "exp = soup.find('li', class_ = 'careers-table v1 center mt20').find('td').text.strip()\n",
    "# print(exp)\n",
    "\n",
    "# 주요 업무, 자격요건, 우대사항\n",
    "maintask = soup.find_all('div', class_ = 'careers-table')[0].text.strip()\n",
    "# print('주요업무: ', maintask)\n",
    "\n",
    "        \n",
    "# 위치\n",
    "location = soup.find_all('div', class_ = 'table_wrap')[0].find('td').text.strip()\n",
    "# print('위치:', location)\n",
    "\n",
    "dict_ = {'companyname': companyname, 'duedate': duedate, 'job': job, 'salary': salary, 'exp': exp, 'maintask': maintask, 'requirement': requirement, 'prefered': prefered, 'location': location}"
   ]
  },
  {
   "cell_type": "code",
   "execution_count": null,
   "metadata": {},
   "outputs": [],
   "source": [
    "//*[@id=\"list1\"]/td[3]/div/div/a\n",
    "//*[@id=\"list2\"]/td[3]/div/div/a\n",
    "//*[@id=\"list4\"]/td[3]/div/div/a"
   ]
  }
 ]
}